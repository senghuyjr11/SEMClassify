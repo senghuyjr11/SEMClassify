{
 "cells": [
  {
   "metadata": {
    "ExecuteTime": {
     "end_time": "2025-05-20T08:37:54.622276Z",
     "start_time": "2025-05-20T08:37:52.279290Z"
    }
   },
   "cell_type": "code",
   "source": [
    "import torch.multiprocessing\n",
    "import torch.optim as optim\n",
    "from torch import nn\n",
    "from torch.utils.data import DataLoader\n",
    "from torchvision import transforms\n",
    "\n",
    "from corrosion_dataset import CorrosionSegmentationDataset\n",
    "from unet import UNet\n",
    "\n",
    "torch.multiprocessing.set_start_method(\"spawn\", force=True)  # ✅ Must be the first line\n",
    "\n",
    "# ✅ Use GPU if available\n",
    "device = torch.device(\"cuda\" if torch.cuda.is_available() else \"cpu\")\n",
    "print(f\"Using device: {device}\")"
   ],
   "id": "38f0ea29f6c9359a",
   "outputs": [
    {
     "name": "stdout",
     "output_type": "stream",
     "text": [
      "Using device: cuda\n"
     ]
    }
   ],
   "execution_count": 1
  },
  {
   "metadata": {
    "ExecuteTime": {
     "end_time": "2025-05-20T08:38:25.350048Z",
     "start_time": "2025-05-20T08:38:11.455894Z"
    }
   },
   "cell_type": "code",
   "source": [
    "# ✅ Reduce num_workers to prevent crashing\n",
    "BATCH_SIZE = 16\n",
    "NUM_WORKERS = 2  # ✅ Reduce for stability (or set to 0 if still crashing)\n",
    "GRAD_ACCUM_STEPS = 2  # ✅ Gradient accumulation\n",
    "\n",
    "# Set dataset paths\n",
    "image_dir = \"processed_dataset\"\n",
    "mask_dir = \"processed_dataset_masks\"\n",
    "\n",
    "# Define image transformations\n",
    "transform = transforms.Compose([\n",
    "    transforms.Resize((224, 224)),\n",
    "    transforms.ToTensor(),\n",
    "    transforms.Normalize(mean=[0.5], std=[0.5]),  # Normalize grayscale images\n",
    "])\n",
    "\n",
    "# ✅ Load dataset inside `if __name__ == \"__main__\"`\n",
    "dataset = CorrosionSegmentationDataset(image_dir, mask_dir, transform=transform)\n",
    "train_loader = DataLoader(dataset, batch_size=BATCH_SIZE, shuffle=True, num_workers=NUM_WORKERS, pin_memory=True)\n",
    "\n",
    "# ✅ Initialize model inside `if __name__ == \"__main__\"`\n",
    "model = UNet(num_classes=2).to(device)"
   ],
   "id": "8585538fe1bd3b74",
   "outputs": [
    {
     "name": "stderr",
     "output_type": "stream",
     "text": [
      "C:\\Users\\Kyojuro\\MLProjects\\SEMClassify\\.venv\\Lib\\site-packages\\torchvision\\models\\_utils.py:208: UserWarning: The parameter 'pretrained' is deprecated since 0.13 and may be removed in the future, please use 'weights' instead.\n",
      "  warnings.warn(\n",
      "C:\\Users\\Kyojuro\\MLProjects\\SEMClassify\\.venv\\Lib\\site-packages\\torchvision\\models\\_utils.py:223: UserWarning: Arguments other than a weight enum or `None` for 'weights' are deprecated since 0.13 and may be removed in the future. The current behavior is equivalent to passing `weights=FCN_ResNet50_Weights.COCO_WITH_VOC_LABELS_V1`. You can also use `weights=FCN_ResNet50_Weights.DEFAULT` to get the most up-to-date weights.\n",
      "  warnings.warn(msg)\n",
      "0.6%"
     ]
    },
    {
     "name": "stdout",
     "output_type": "stream",
     "text": [
      "Downloading: \"https://download.pytorch.org/models/fcn_resnet50_coco-1167a1af.pth\" to C:\\Users\\Kyojuro/.cache\\torch\\hub\\checkpoints\\fcn_resnet50_coco-1167a1af.pth\n"
     ]
    },
    {
     "name": "stderr",
     "output_type": "stream",
     "text": [
      "100.0%\n"
     ]
    }
   ],
   "execution_count": 2
  },
  {
   "metadata": {
    "ExecuteTime": {
     "end_time": "2025-05-20T08:40:11.609262Z",
     "start_time": "2025-05-20T08:38:53.826957Z"
    }
   },
   "cell_type": "code",
   "source": [
    "# ✅ Define loss function & optimizer\n",
    "criterion = nn.CrossEntropyLoss()\n",
    "optimizer = optim.AdamW(model.parameters(), lr=0.0001, weight_decay=1e-4)\n",
    "scaler = torch.cuda.amp.GradScaler()  # ✅ Mixed Precision (FP16)\n",
    "\n",
    "# ✅ Training loop\n",
    "for epoch in range(20):\n",
    "    model.train()\n",
    "    total_loss = 0\n",
    "    correct_pixels = 0\n",
    "    total_pixels = 0\n",
    "    optimizer.zero_grad()\n",
    "\n",
    "    for i, (images, masks) in enumerate(train_loader):\n",
    "        images, masks = images.to(device), masks.to(device)\n",
    "\n",
    "        with torch.cuda.amp.autocast():  # ✅ Enable FP16\n",
    "            outputs = model(images)\n",
    "            loss = criterion(outputs, masks.long()) / GRAD_ACCUM_STEPS  # ✅ Gradient accumulation\n",
    "\n",
    "        scaler.scale(loss).backward()\n",
    "\n",
    "        if (i + 1) % GRAD_ACCUM_STEPS == 0:  # ✅ Update weights after accumulation steps\n",
    "            scaler.step(optimizer)\n",
    "            scaler.update()\n",
    "            optimizer.zero_grad()\n",
    "\n",
    "        total_loss += loss.item()\n",
    "        preds = torch.argmax(outputs, dim=1)\n",
    "        correct_pixels += (preds == masks).sum().item()\n",
    "        total_pixels += masks.numel()\n",
    "\n",
    "    pixel_accuracy = 100 * correct_pixels / total_pixels\n",
    "    print(f\"Epoch {epoch+1}, Loss: {total_loss:.4f}, Pixel Accuracy: {pixel_accuracy:.2f}%\")\n",
    "\n",
    "torch.save(model.state_dict(), \"unet_corrosion.pth\")\n",
    "print(\"✅ Training complete. Model saved.\")"
   ],
   "id": "8e2fe3e233d213d8",
   "outputs": [
    {
     "name": "stderr",
     "output_type": "stream",
     "text": [
      "C:\\Users\\Kyojuro\\AppData\\Local\\Temp\\ipykernel_6076\\2934163907.py:4: FutureWarning: `torch.cuda.amp.GradScaler(args...)` is deprecated. Please use `torch.amp.GradScaler('cuda', args...)` instead.\n",
      "  scaler = torch.cuda.amp.GradScaler()  # ✅ Mixed Precision (FP16)\n",
      "C:\\Users\\Kyojuro\\AppData\\Local\\Temp\\ipykernel_6076\\2934163907.py:17: FutureWarning: `torch.cuda.amp.autocast(args...)` is deprecated. Please use `torch.amp.autocast('cuda', args...)` instead.\n",
      "  with torch.cuda.amp.autocast():  # ✅ Enable FP16\n"
     ]
    },
    {
     "name": "stdout",
     "output_type": "stream",
     "text": [
      "Epoch 1, Loss: 2.1189, Pixel Accuracy: 76.20%\n",
      "Epoch 2, Loss: 1.4659, Pixel Accuracy: 85.85%\n",
      "Epoch 3, Loss: 1.2100, Pixel Accuracy: 87.64%\n",
      "Epoch 4, Loss: 1.1649, Pixel Accuracy: 88.99%\n",
      "Epoch 5, Loss: 1.0577, Pixel Accuracy: 90.12%\n",
      "Epoch 6, Loss: 0.9846, Pixel Accuracy: 90.77%\n",
      "Epoch 7, Loss: 0.8928, Pixel Accuracy: 91.55%\n",
      "Epoch 8, Loss: 0.8946, Pixel Accuracy: 91.54%\n",
      "Epoch 9, Loss: 0.8804, Pixel Accuracy: 91.93%\n",
      "Epoch 10, Loss: 0.7833, Pixel Accuracy: 92.40%\n",
      "Epoch 11, Loss: 0.8319, Pixel Accuracy: 92.17%\n",
      "Epoch 12, Loss: 0.8142, Pixel Accuracy: 92.51%\n",
      "Epoch 13, Loss: 0.7544, Pixel Accuracy: 92.62%\n",
      "Epoch 14, Loss: 0.7723, Pixel Accuracy: 92.71%\n",
      "Epoch 15, Loss: 0.8460, Pixel Accuracy: 92.66%\n",
      "Epoch 16, Loss: 0.7270, Pixel Accuracy: 93.35%\n",
      "Epoch 17, Loss: 0.6784, Pixel Accuracy: 93.42%\n",
      "Epoch 18, Loss: 0.6959, Pixel Accuracy: 93.55%\n",
      "Epoch 19, Loss: 0.6795, Pixel Accuracy: 93.77%\n",
      "Epoch 20, Loss: 0.6594, Pixel Accuracy: 93.87%\n",
      "✅ Training complete. Model saved.\n"
     ]
    }
   ],
   "execution_count": 3
  },
  {
   "metadata": {},
   "cell_type": "code",
   "outputs": [],
   "execution_count": null,
   "source": "",
   "id": "3284db84f525ffc6"
  }
 ],
 "metadata": {},
 "nbformat": 4,
 "nbformat_minor": 5
}
