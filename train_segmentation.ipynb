{
 "cells": [
  {
   "metadata": {
    "ExecuteTime": {
     "end_time": "2025-06-02T02:06:29.551457Z",
     "start_time": "2025-06-02T02:06:27.261081Z"
    }
   },
   "cell_type": "code",
   "source": [
    "import torch.multiprocessing\n",
    "import torch.optim as optim\n",
    "from torch import nn\n",
    "from torch.utils.data import DataLoader\n",
    "from torchvision import transforms\n",
    "\n",
    "from corrosion_dataset import CorrosionSegmentationDataset\n",
    "from unet import UNet\n",
    "\n",
    "torch.multiprocessing.set_start_method(\"spawn\", force=True)  # ✅ Must be the first line\n",
    "\n",
    "# ✅ Use GPU if available\n",
    "device = torch.device(\"cuda\" if torch.cuda.is_available() else \"cpu\")\n",
    "print(f\"Using device: {device}\")"
   ],
   "id": "38f0ea29f6c9359a",
   "outputs": [
    {
     "name": "stdout",
     "output_type": "stream",
     "text": [
      "Using device: cuda\n"
     ]
    }
   ],
   "execution_count": 1
  },
  {
   "metadata": {
    "ExecuteTime": {
     "end_time": "2025-06-02T02:06:31.090677Z",
     "start_time": "2025-06-02T02:06:30.629343Z"
    }
   },
   "cell_type": "code",
   "source": [
    "# ✅ Reduce num_workers to prevent crashing\n",
    "BATCH_SIZE = 16\n",
    "NUM_WORKERS = 2  # ✅ Reduce for stability (or set to 0 if still crashing)\n",
    "GRAD_ACCUM_STEPS = 2  # ✅ Gradient accumulation\n",
    "\n",
    "# Set dataset paths\n",
    "image_dir = \"processed_dataset\"\n",
    "mask_dir = \"processed_dataset_masks\"\n",
    "\n",
    "# Define image transformations\n",
    "transform = transforms.Compose([\n",
    "    transforms.Resize((224, 224)),\n",
    "    transforms.ToTensor(),\n",
    "    transforms.Normalize(mean=[0.5], std=[0.5]),  # Normalize grayscale images\n",
    "])\n",
    "\n",
    "# ✅ Load dataset inside `if __name__ == \"__main__\"`\n",
    "dataset = CorrosionSegmentationDataset(image_dir, mask_dir, transform=transform)\n",
    "train_loader = DataLoader(dataset, batch_size=BATCH_SIZE, shuffle=True, num_workers=NUM_WORKERS, pin_memory=True)\n",
    "\n",
    "# ✅ Initialize model inside `if __name__ == \"__main__\"`\n",
    "model = UNet(num_classes=2).to(device)"
   ],
   "id": "8585538fe1bd3b74",
   "outputs": [
    {
     "name": "stderr",
     "output_type": "stream",
     "text": [
      "D:\\001_MLProjects\\SEMClassify\\.venv\\Lib\\site-packages\\torchvision\\models\\_utils.py:208: UserWarning: The parameter 'pretrained' is deprecated since 0.13 and may be removed in the future, please use 'weights' instead.\n",
      "  warnings.warn(\n",
      "D:\\001_MLProjects\\SEMClassify\\.venv\\Lib\\site-packages\\torchvision\\models\\_utils.py:223: UserWarning: Arguments other than a weight enum or `None` for 'weights' are deprecated since 0.13 and may be removed in the future. The current behavior is equivalent to passing `weights=FCN_ResNet50_Weights.COCO_WITH_VOC_LABELS_V1`. You can also use `weights=FCN_ResNet50_Weights.DEFAULT` to get the most up-to-date weights.\n",
      "  warnings.warn(msg)\n"
     ]
    }
   ],
   "execution_count": 2
  },
  {
   "metadata": {
    "ExecuteTime": {
     "end_time": "2025-06-02T02:07:54.204094Z",
     "start_time": "2025-06-02T02:06:32.045218Z"
    }
   },
   "cell_type": "code",
   "source": [
    "# ✅ Define loss function & optimizer\n",
    "criterion = nn.CrossEntropyLoss()\n",
    "optimizer = optim.AdamW(model.parameters(), lr=0.0001, weight_decay=1e-4)\n",
    "scaler = torch.cuda.amp.GradScaler()  # ✅ Mixed Precision (FP16)\n",
    "\n",
    "# ✅ Training loop\n",
    "for epoch in range(20):\n",
    "    model.train()\n",
    "    total_loss = 0\n",
    "    correct_pixels = 0\n",
    "    total_pixels = 0\n",
    "    optimizer.zero_grad()\n",
    "\n",
    "    for i, (images, masks) in enumerate(train_loader):\n",
    "        images, masks = images.to(device), masks.to(device)\n",
    "\n",
    "        with torch.cuda.amp.autocast():  # ✅ Enable FP16\n",
    "            outputs = model(images)\n",
    "            loss = criterion(outputs, masks.long()) / GRAD_ACCUM_STEPS  # ✅ Gradient accumulation\n",
    "\n",
    "        scaler.scale(loss).backward()\n",
    "\n",
    "        if (i + 1) % GRAD_ACCUM_STEPS == 0:  # ✅ Update weights after accumulation steps\n",
    "            scaler.step(optimizer)\n",
    "            scaler.update()\n",
    "            optimizer.zero_grad()\n",
    "\n",
    "        total_loss += loss.item()\n",
    "        preds = torch.argmax(outputs, dim=1)\n",
    "        correct_pixels += (preds == masks).sum().item()\n",
    "        total_pixels += masks.numel()\n",
    "\n",
    "    pixel_accuracy = 100 * correct_pixels / total_pixels\n",
    "    print(f\"Epoch {epoch+1}, Loss: {total_loss:.4f}, Pixel Accuracy: {pixel_accuracy:.2f}%\")\n",
    "\n",
    "torch.save(model.state_dict(), \"unet_corrosion.pth\")\n",
    "print(\"✅ Training complete. Model saved.\")"
   ],
   "id": "8e2fe3e233d213d8",
   "outputs": [
    {
     "name": "stderr",
     "output_type": "stream",
     "text": [
      "C:\\Users\\Kyojuro\\AppData\\Local\\Temp\\ipykernel_20288\\2934163907.py:4: FutureWarning: `torch.cuda.amp.GradScaler(args...)` is deprecated. Please use `torch.amp.GradScaler('cuda', args...)` instead.\n",
      "  scaler = torch.cuda.amp.GradScaler()  # ✅ Mixed Precision (FP16)\n",
      "C:\\Users\\Kyojuro\\AppData\\Local\\Temp\\ipykernel_20288\\2934163907.py:17: FutureWarning: `torch.cuda.amp.autocast(args...)` is deprecated. Please use `torch.amp.autocast('cuda', args...)` instead.\n",
      "  with torch.cuda.amp.autocast():  # ✅ Enable FP16\n"
     ]
    },
    {
     "name": "stdout",
     "output_type": "stream",
     "text": [
      "Epoch 1, Loss: 2.3251, Pixel Accuracy: 64.89%\n",
      "Epoch 2, Loss: 1.6182, Pixel Accuracy: 83.74%\n",
      "Epoch 3, Loss: 1.4581, Pixel Accuracy: 86.55%\n",
      "Epoch 4, Loss: 1.2099, Pixel Accuracy: 88.19%\n",
      "Epoch 5, Loss: 1.1728, Pixel Accuracy: 88.30%\n",
      "Epoch 6, Loss: 0.9936, Pixel Accuracy: 90.67%\n",
      "Epoch 7, Loss: 0.9867, Pixel Accuracy: 90.87%\n",
      "Epoch 8, Loss: 0.9585, Pixel Accuracy: 91.00%\n",
      "Epoch 9, Loss: 0.9803, Pixel Accuracy: 91.14%\n",
      "Epoch 10, Loss: 0.9253, Pixel Accuracy: 91.64%\n",
      "Epoch 11, Loss: 0.9106, Pixel Accuracy: 91.52%\n",
      "Epoch 12, Loss: 0.8131, Pixel Accuracy: 92.27%\n",
      "Epoch 13, Loss: 0.8037, Pixel Accuracy: 92.46%\n",
      "Epoch 14, Loss: 0.8165, Pixel Accuracy: 92.37%\n",
      "Epoch 15, Loss: 0.8195, Pixel Accuracy: 92.58%\n",
      "Epoch 16, Loss: 0.7579, Pixel Accuracy: 92.98%\n",
      "Epoch 17, Loss: 0.7360, Pixel Accuracy: 93.19%\n",
      "Epoch 18, Loss: 0.7275, Pixel Accuracy: 93.24%\n",
      "Epoch 19, Loss: 0.7521, Pixel Accuracy: 93.18%\n",
      "Epoch 20, Loss: 0.6921, Pixel Accuracy: 93.63%\n",
      "✅ Training complete. Model saved.\n"
     ]
    }
   ],
   "execution_count": 3
  },
  {
   "metadata": {},
   "cell_type": "code",
   "outputs": [],
   "execution_count": null,
   "source": "",
   "id": "3284db84f525ffc6"
  }
 ],
 "metadata": {},
 "nbformat": 4,
 "nbformat_minor": 5
}
